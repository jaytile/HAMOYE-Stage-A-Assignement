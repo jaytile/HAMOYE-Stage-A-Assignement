{
 "cells": [
  {
   "cell_type": "code",
   "execution_count": 5,
   "id": "9e7c7233",
   "metadata": {},
   "outputs": [],
   "source": [
    "import numpy as np\n",
    "import pandas as pd"
   ]
  },
  {
   "cell_type": "code",
   "execution_count": 70,
   "id": "ea710534",
   "metadata": {},
   "outputs": [
    {
     "name": "stdout",
     "output_type": "stream",
     "text": [
      "[1, 2, 3, 4, 5, 6, 13, 21, 34]\n"
     ]
    }
   ],
   "source": [
    "A=[1,2,3,4,5,6]\n",
    "B=[13,21,34]\n",
    "A.extend(B)\n",
    "print(A)\n",
    "\n",
    "#Question 1"
   ]
  },
  {
   "cell_type": "code",
   "execution_count": 9,
   "id": "4b8d03b3",
   "metadata": {},
   "outputs": [
    {
     "data": {
      "text/plain": [
       "array([[1., 0., 0.],\n",
       "       [0., 1., 0.],\n",
       "       [0., 0., 1.]])"
      ]
     },
     "execution_count": 9,
     "metadata": {},
     "output_type": "execute_result"
    }
   ],
   "source": [
    "np.identity(3)\n",
    "#Question 2"
   ]
  },
  {
   "cell_type": "code",
   "execution_count": 11,
   "id": "d5367e4c",
   "metadata": {},
   "outputs": [
    {
     "data": {
      "text/html": [
       "<div>\n",
       "<style scoped>\n",
       "    .dataframe tbody tr th:only-of-type {\n",
       "        vertical-align: middle;\n",
       "    }\n",
       "\n",
       "    .dataframe tbody tr th {\n",
       "        vertical-align: top;\n",
       "    }\n",
       "\n",
       "    .dataframe thead th {\n",
       "        text-align: right;\n",
       "    }\n",
       "</style>\n",
       "<table border=\"1\" class=\"dataframe\">\n",
       "  <thead>\n",
       "    <tr style=\"text-align: right;\">\n",
       "      <th></th>\n",
       "      <th>record_id</th>\n",
       "      <th>utility_id_ferc1</th>\n",
       "      <th>report_year</th>\n",
       "      <th>plant_name_ferc1</th>\n",
       "      <th>fuel_type_code_pudl</th>\n",
       "      <th>fuel_unit</th>\n",
       "      <th>fuel_qty_burned</th>\n",
       "      <th>fuel_mmbtu_per_unit</th>\n",
       "      <th>fuel_cost_per_unit_burned</th>\n",
       "      <th>fuel_cost_per_unit_delivered</th>\n",
       "      <th>fuel_cost_per_mmbtu</th>\n",
       "    </tr>\n",
       "  </thead>\n",
       "  <tbody>\n",
       "    <tr>\n",
       "      <th>count</th>\n",
       "      <td>29523</td>\n",
       "      <td>29523.000000</td>\n",
       "      <td>29523.000000</td>\n",
       "      <td>29523</td>\n",
       "      <td>29523</td>\n",
       "      <td>29343</td>\n",
       "      <td>2.952300e+04</td>\n",
       "      <td>29523.000000</td>\n",
       "      <td>29523.000000</td>\n",
       "      <td>2.952300e+04</td>\n",
       "      <td>29523.000000</td>\n",
       "    </tr>\n",
       "    <tr>\n",
       "      <th>unique</th>\n",
       "      <td>29523</td>\n",
       "      <td>NaN</td>\n",
       "      <td>NaN</td>\n",
       "      <td>2315</td>\n",
       "      <td>6</td>\n",
       "      <td>9</td>\n",
       "      <td>NaN</td>\n",
       "      <td>NaN</td>\n",
       "      <td>NaN</td>\n",
       "      <td>NaN</td>\n",
       "      <td>NaN</td>\n",
       "    </tr>\n",
       "    <tr>\n",
       "      <th>top</th>\n",
       "      <td>f1_fuel_1999_12_182_1_8</td>\n",
       "      <td>NaN</td>\n",
       "      <td>NaN</td>\n",
       "      <td>big stone</td>\n",
       "      <td>gas</td>\n",
       "      <td>mcf</td>\n",
       "      <td>NaN</td>\n",
       "      <td>NaN</td>\n",
       "      <td>NaN</td>\n",
       "      <td>NaN</td>\n",
       "      <td>NaN</td>\n",
       "    </tr>\n",
       "    <tr>\n",
       "      <th>freq</th>\n",
       "      <td>1</td>\n",
       "      <td>NaN</td>\n",
       "      <td>NaN</td>\n",
       "      <td>156</td>\n",
       "      <td>11486</td>\n",
       "      <td>11354</td>\n",
       "      <td>NaN</td>\n",
       "      <td>NaN</td>\n",
       "      <td>NaN</td>\n",
       "      <td>NaN</td>\n",
       "      <td>NaN</td>\n",
       "    </tr>\n",
       "    <tr>\n",
       "      <th>mean</th>\n",
       "      <td>NaN</td>\n",
       "      <td>118.601836</td>\n",
       "      <td>2005.806050</td>\n",
       "      <td>NaN</td>\n",
       "      <td>NaN</td>\n",
       "      <td>NaN</td>\n",
       "      <td>2.622119e+06</td>\n",
       "      <td>8.492111</td>\n",
       "      <td>208.649031</td>\n",
       "      <td>9.175704e+02</td>\n",
       "      <td>19.304354</td>\n",
       "    </tr>\n",
       "    <tr>\n",
       "      <th>std</th>\n",
       "      <td>NaN</td>\n",
       "      <td>74.178353</td>\n",
       "      <td>7.025483</td>\n",
       "      <td>NaN</td>\n",
       "      <td>NaN</td>\n",
       "      <td>NaN</td>\n",
       "      <td>9.118004e+06</td>\n",
       "      <td>10.600220</td>\n",
       "      <td>2854.490090</td>\n",
       "      <td>6.877593e+04</td>\n",
       "      <td>2091.540939</td>\n",
       "    </tr>\n",
       "    <tr>\n",
       "      <th>min</th>\n",
       "      <td>NaN</td>\n",
       "      <td>1.000000</td>\n",
       "      <td>1994.000000</td>\n",
       "      <td>NaN</td>\n",
       "      <td>NaN</td>\n",
       "      <td>NaN</td>\n",
       "      <td>1.000000e+00</td>\n",
       "      <td>0.000001</td>\n",
       "      <td>-276.080000</td>\n",
       "      <td>-8.749370e+02</td>\n",
       "      <td>-41.501000</td>\n",
       "    </tr>\n",
       "    <tr>\n",
       "      <th>25%</th>\n",
       "      <td>NaN</td>\n",
       "      <td>55.000000</td>\n",
       "      <td>2000.000000</td>\n",
       "      <td>NaN</td>\n",
       "      <td>NaN</td>\n",
       "      <td>NaN</td>\n",
       "      <td>1.381700e+04</td>\n",
       "      <td>1.024000</td>\n",
       "      <td>5.207000</td>\n",
       "      <td>3.778500e+00</td>\n",
       "      <td>1.940000</td>\n",
       "    </tr>\n",
       "    <tr>\n",
       "      <th>50%</th>\n",
       "      <td>NaN</td>\n",
       "      <td>122.000000</td>\n",
       "      <td>2006.000000</td>\n",
       "      <td>NaN</td>\n",
       "      <td>NaN</td>\n",
       "      <td>NaN</td>\n",
       "      <td>2.533220e+05</td>\n",
       "      <td>5.762694</td>\n",
       "      <td>26.000000</td>\n",
       "      <td>1.737100e+01</td>\n",
       "      <td>4.127000</td>\n",
       "    </tr>\n",
       "    <tr>\n",
       "      <th>75%</th>\n",
       "      <td>NaN</td>\n",
       "      <td>176.000000</td>\n",
       "      <td>2012.000000</td>\n",
       "      <td>NaN</td>\n",
       "      <td>NaN</td>\n",
       "      <td>NaN</td>\n",
       "      <td>1.424034e+06</td>\n",
       "      <td>17.006000</td>\n",
       "      <td>47.113000</td>\n",
       "      <td>4.213700e+01</td>\n",
       "      <td>7.745000</td>\n",
       "    </tr>\n",
       "    <tr>\n",
       "      <th>max</th>\n",
       "      <td>NaN</td>\n",
       "      <td>514.000000</td>\n",
       "      <td>2018.000000</td>\n",
       "      <td>NaN</td>\n",
       "      <td>NaN</td>\n",
       "      <td>NaN</td>\n",
       "      <td>5.558942e+08</td>\n",
       "      <td>341.260000</td>\n",
       "      <td>139358.000000</td>\n",
       "      <td>7.964521e+06</td>\n",
       "      <td>359278.000000</td>\n",
       "    </tr>\n",
       "  </tbody>\n",
       "</table>\n",
       "</div>"
      ],
      "text/plain": [
       "                      record_id  utility_id_ferc1   report_year  \\\n",
       "count                     29523      29523.000000  29523.000000   \n",
       "unique                    29523               NaN           NaN   \n",
       "top     f1_fuel_1999_12_182_1_8               NaN           NaN   \n",
       "freq                          1               NaN           NaN   \n",
       "mean                        NaN        118.601836   2005.806050   \n",
       "std                         NaN         74.178353      7.025483   \n",
       "min                         NaN          1.000000   1994.000000   \n",
       "25%                         NaN         55.000000   2000.000000   \n",
       "50%                         NaN        122.000000   2006.000000   \n",
       "75%                         NaN        176.000000   2012.000000   \n",
       "max                         NaN        514.000000   2018.000000   \n",
       "\n",
       "       plant_name_ferc1 fuel_type_code_pudl fuel_unit  fuel_qty_burned  \\\n",
       "count             29523               29523     29343     2.952300e+04   \n",
       "unique             2315                   6         9              NaN   \n",
       "top           big stone                 gas       mcf              NaN   \n",
       "freq                156               11486     11354              NaN   \n",
       "mean                NaN                 NaN       NaN     2.622119e+06   \n",
       "std                 NaN                 NaN       NaN     9.118004e+06   \n",
       "min                 NaN                 NaN       NaN     1.000000e+00   \n",
       "25%                 NaN                 NaN       NaN     1.381700e+04   \n",
       "50%                 NaN                 NaN       NaN     2.533220e+05   \n",
       "75%                 NaN                 NaN       NaN     1.424034e+06   \n",
       "max                 NaN                 NaN       NaN     5.558942e+08   \n",
       "\n",
       "        fuel_mmbtu_per_unit  fuel_cost_per_unit_burned  \\\n",
       "count          29523.000000               29523.000000   \n",
       "unique                  NaN                        NaN   \n",
       "top                     NaN                        NaN   \n",
       "freq                    NaN                        NaN   \n",
       "mean               8.492111                 208.649031   \n",
       "std               10.600220                2854.490090   \n",
       "min                0.000001                -276.080000   \n",
       "25%                1.024000                   5.207000   \n",
       "50%                5.762694                  26.000000   \n",
       "75%               17.006000                  47.113000   \n",
       "max              341.260000              139358.000000   \n",
       "\n",
       "        fuel_cost_per_unit_delivered  fuel_cost_per_mmbtu  \n",
       "count                   2.952300e+04         29523.000000  \n",
       "unique                           NaN                  NaN  \n",
       "top                              NaN                  NaN  \n",
       "freq                             NaN                  NaN  \n",
       "mean                    9.175704e+02            19.304354  \n",
       "std                     6.877593e+04          2091.540939  \n",
       "min                    -8.749370e+02           -41.501000  \n",
       "25%                     3.778500e+00             1.940000  \n",
       "50%                     1.737100e+01             4.127000  \n",
       "75%                     4.213700e+01             7.745000  \n",
       "max                     7.964521e+06        359278.000000  "
      ]
     },
     "execution_count": 11,
     "metadata": {},
     "output_type": "execute_result"
    }
   ],
   "source": [
    "fuel_data=pd.read_csv('quiz.csv', error_bad_lines=False)\n",
    "fuel_data.describe(include='all')\n",
    "#Question 4"
   ]
  },
  {
   "cell_type": "code",
   "execution_count": 23,
   "id": "8127cab3",
   "metadata": {
    "scrolled": true
   },
   "outputs": [
    {
     "data": {
      "text/html": [
       "<div>\n",
       "<style scoped>\n",
       "    .dataframe tbody tr th:only-of-type {\n",
       "        vertical-align: middle;\n",
       "    }\n",
       "\n",
       "    .dataframe tbody tr th {\n",
       "        vertical-align: top;\n",
       "    }\n",
       "\n",
       "    .dataframe thead th {\n",
       "        text-align: right;\n",
       "    }\n",
       "</style>\n",
       "<table border=\"1\" class=\"dataframe\">\n",
       "  <thead>\n",
       "    <tr style=\"text-align: right;\">\n",
       "      <th></th>\n",
       "      <th>utility_id_ferc1</th>\n",
       "      <th>report_year</th>\n",
       "      <th>fuel_qty_burned</th>\n",
       "      <th>fuel_mmbtu_per_unit</th>\n",
       "      <th>fuel_cost_per_unit_burned</th>\n",
       "      <th>fuel_cost_per_unit_delivered</th>\n",
       "      <th>fuel_cost_per_mmbtu</th>\n",
       "    </tr>\n",
       "    <tr>\n",
       "      <th>fuel_type_code_pudl</th>\n",
       "      <th></th>\n",
       "      <th></th>\n",
       "      <th></th>\n",
       "      <th></th>\n",
       "      <th></th>\n",
       "      <th></th>\n",
       "      <th></th>\n",
       "    </tr>\n",
       "  </thead>\n",
       "  <tbody>\n",
       "    <tr>\n",
       "      <th>coal</th>\n",
       "      <td>115.637534</td>\n",
       "      <td>2004.623143</td>\n",
       "      <td>1.903473e+06</td>\n",
       "      <td>20.762780</td>\n",
       "      <td>67.421830</td>\n",
       "      <td>116.951141</td>\n",
       "      <td>1.787190</td>\n",
       "    </tr>\n",
       "    <tr>\n",
       "      <th>gas</th>\n",
       "      <td>124.122062</td>\n",
       "      <td>2005.978060</td>\n",
       "      <td>4.843183e+06</td>\n",
       "      <td>1.021913</td>\n",
       "      <td>13.659397</td>\n",
       "      <td>12.095172</td>\n",
       "      <td>5.408876</td>\n",
       "    </tr>\n",
       "    <tr>\n",
       "      <th>nuclear</th>\n",
       "      <td>107.397311</td>\n",
       "      <td>2002.970660</td>\n",
       "      <td>5.454838e+06</td>\n",
       "      <td>17.582120</td>\n",
       "      <td>4955.157002</td>\n",
       "      <td>28616.915039</td>\n",
       "      <td>1.716559</td>\n",
       "    </tr>\n",
       "    <tr>\n",
       "      <th>oil</th>\n",
       "      <td>113.236235</td>\n",
       "      <td>2007.195933</td>\n",
       "      <td>6.311677e+04</td>\n",
       "      <td>5.814377</td>\n",
       "      <td>168.877086</td>\n",
       "      <td>313.907691</td>\n",
       "      <td>12.698732</td>\n",
       "    </tr>\n",
       "    <tr>\n",
       "      <th>other</th>\n",
       "      <td>110.467066</td>\n",
       "      <td>2001.700599</td>\n",
       "      <td>2.948137e+06</td>\n",
       "      <td>0.572752</td>\n",
       "      <td>18.253856</td>\n",
       "      <td>16.871485</td>\n",
       "      <td>155.084910</td>\n",
       "    </tr>\n",
       "    <tr>\n",
       "      <th>waste</th>\n",
       "      <td>154.253968</td>\n",
       "      <td>2005.650794</td>\n",
       "      <td>1.171914e+05</td>\n",
       "      <td>0.341163</td>\n",
       "      <td>19.518122</td>\n",
       "      <td>18.413052</td>\n",
       "      <td>822.709937</td>\n",
       "    </tr>\n",
       "  </tbody>\n",
       "</table>\n",
       "</div>"
      ],
      "text/plain": [
       "                     utility_id_ferc1  report_year  fuel_qty_burned  \\\n",
       "fuel_type_code_pudl                                                   \n",
       "coal                       115.637534  2004.623143     1.903473e+06   \n",
       "gas                        124.122062  2005.978060     4.843183e+06   \n",
       "nuclear                    107.397311  2002.970660     5.454838e+06   \n",
       "oil                        113.236235  2007.195933     6.311677e+04   \n",
       "other                      110.467066  2001.700599     2.948137e+06   \n",
       "waste                      154.253968  2005.650794     1.171914e+05   \n",
       "\n",
       "                     fuel_mmbtu_per_unit  fuel_cost_per_unit_burned  \\\n",
       "fuel_type_code_pudl                                                   \n",
       "coal                           20.762780                  67.421830   \n",
       "gas                             1.021913                  13.659397   \n",
       "nuclear                        17.582120                4955.157002   \n",
       "oil                             5.814377                 168.877086   \n",
       "other                           0.572752                  18.253856   \n",
       "waste                           0.341163                  19.518122   \n",
       "\n",
       "                     fuel_cost_per_unit_delivered  fuel_cost_per_mmbtu  \n",
       "fuel_type_code_pudl                                                     \n",
       "coal                                   116.951141             1.787190  \n",
       "gas                                     12.095172             5.408876  \n",
       "nuclear                              28616.915039             1.716559  \n",
       "oil                                    313.907691            12.698732  \n",
       "other                                   16.871485           155.084910  \n",
       "waste                                   18.413052           822.709937  "
      ]
     },
     "execution_count": 23,
     "metadata": {},
     "output_type": "execute_result"
    }
   ],
   "source": [
    "fuel_data.groupby('fuel_type_code_pudl').mean()\n",
    "#Question 3"
   ]
  },
  {
   "cell_type": "code",
   "execution_count": 29,
   "id": "a25d2154",
   "metadata": {},
   "outputs": [
    {
     "data": {
      "text/plain": [
       "fuel_qty_burned                              \n",
       "1.0              utility_id_ferc1               -0.139365\n",
       "                 report_year                     0.260194\n",
       "                 fuel_mmbtu_per_unit            -2.752201\n",
       "                 fuel_cost_per_unit_burned       2.698443\n",
       "                 fuel_cost_per_unit_delivered    3.076746\n",
       "                                                   ...   \n",
       "555894250.0      report_year                          NaN\n",
       "                 fuel_mmbtu_per_unit                  NaN\n",
       "                 fuel_cost_per_unit_burned            NaN\n",
       "                 fuel_cost_per_unit_delivered         NaN\n",
       "                 fuel_cost_per_mmbtu                  NaN\n",
       "Length: 158754, dtype: float64"
      ]
     },
     "execution_count": 29,
     "metadata": {},
     "output_type": "execute_result"
    }
   ],
   "source": [
    "fuel_data.groupby('fuel_qty_burned').skew()\n",
    "#Question 5"
   ]
  },
  {
   "cell_type": "code",
   "execution_count": 30,
   "id": "716feccc",
   "metadata": {},
   "outputs": [
    {
     "data": {
      "text/plain": [
       "record_id                         0\n",
       "utility_id_ferc1                  0\n",
       "report_year                       0\n",
       "plant_name_ferc1                  0\n",
       "fuel_type_code_pudl               0\n",
       "fuel_unit                       180\n",
       "fuel_qty_burned                   0\n",
       "fuel_mmbtu_per_unit               0\n",
       "fuel_cost_per_unit_burned         0\n",
       "fuel_cost_per_unit_delivered      0\n",
       "fuel_cost_per_mmbtu               0\n",
       "dtype: int64"
      ]
     },
     "execution_count": 30,
     "metadata": {},
     "output_type": "execute_result"
    }
   ],
   "source": [
    "fuel_data.isnull().sum()\n",
    "\n",
    "#Question 6"
   ]
  },
  {
   "cell_type": "code",
   "execution_count": 34,
   "id": "c28dc81f",
   "metadata": {},
   "outputs": [
    {
     "data": {
      "text/plain": [
       "record_id                       29343\n",
       "utility_id_ferc1                29343\n",
       "report_year                     29343\n",
       "plant_name_ferc1                29343\n",
       "fuel_type_code_pudl             29343\n",
       "fuel_qty_burned                 29343\n",
       "fuel_mmbtu_per_unit             29343\n",
       "fuel_cost_per_unit_burned       29343\n",
       "fuel_cost_per_unit_delivered    29343\n",
       "fuel_cost_per_mmbtu             29343\n",
       "dtype: int64"
      ]
     },
     "execution_count": 34,
     "metadata": {},
     "output_type": "execute_result"
    }
   ],
   "source": [
    "fuel_data.groupby('fuel_unit').count().sum()\n",
    "\n",
    "#Question 6"
   ]
  },
  {
   "cell_type": "code",
   "execution_count": 37,
   "id": "206d4fde",
   "metadata": {},
   "outputs": [
    {
     "name": "stdout",
     "output_type": "stream",
     "text": [
      "0.6134342091810653\n"
     ]
    }
   ],
   "source": [
    "fuel_unit_full = 29343\n",
    "fuel_unit_empty = 180\n",
    "x= (fuel_unit_empty/fuel_unit_full) * 100\n",
    "print(x)\n",
    "\n",
    "#Question 6"
   ]
  },
  {
   "cell_type": "code",
   "execution_count": 62,
   "id": "ba7af1f6",
   "metadata": {},
   "outputs": [
    {
     "data": {
      "text/plain": [
       "report_year\n",
       "1994    263292.115\n",
       "1995    425661.488\n",
       "1996     86425.275\n",
       "1997    163533.452\n",
       "1998    140238.656\n",
       "1999    126056.285\n",
       "2000    326495.434\n",
       "2001    180365.641\n",
       "2002    121921.135\n",
       "2003    149175.726\n",
       "2004    184637.699\n",
       "2005    135924.139\n",
       "2006    188142.032\n",
       "2007    256114.312\n",
       "2008    314312.022\n",
       "2009    263584.566\n",
       "2010    331581.467\n",
       "2011    374175.603\n",
       "2012    321693.544\n",
       "2013    306933.236\n",
       "2014    518002.469\n",
       "2015    260060.984\n",
       "2016    255484.814\n",
       "2017    244557.823\n",
       "2018    221575.426\n",
       "Name: fuel_cost_per_unit_burned, dtype: float64"
      ]
     },
     "execution_count": 62,
     "metadata": {},
     "output_type": "execute_result"
    }
   ],
   "source": [
    "fuel_data.groupby('report_year')['fuel_cost_per_unit_burned'].sum()\n",
    "#Question 9"
   ]
  },
  {
   "cell_type": "code",
   "execution_count": 67,
   "id": "efc0f284",
   "metadata": {},
   "outputs": [
    {
     "name": "stdout",
     "output_type": "stream",
     "text": [
      "-46.73647708743576\n"
     ]
    }
   ],
   "source": [
    "fuel_1994=263292.115\n",
    "fuel_1998=140238.656\n",
    "\n",
    "answer = ((fuel_1998-fuel_1994)/fuel_1994)*100\n",
    "print(answer)\n",
    "\n",
    "#Question 9"
   ]
  },
  {
   "cell_type": "code",
   "execution_count": 61,
   "id": "f35f6fb0",
   "metadata": {},
   "outputs": [
    {
     "data": {
      "text/plain": [
       "report_year\n",
       "1994    7.859053e+04\n",
       "1995    3.931506e+04\n",
       "1996    1.000602e+07\n",
       "1997    1.218738e+07\n",
       "1998    3.178799e+05\n",
       "1999    2.682921e+04\n",
       "2000    1.352903e+06\n",
       "2001    8.142834e+04\n",
       "2002    5.735121e+04\n",
       "2003    6.740849e+04\n",
       "2004    1.663129e+05\n",
       "2005    5.258506e+04\n",
       "2006    4.805125e+04\n",
       "2007    5.476283e+04\n",
       "2008    7.194631e+04\n",
       "2009    7.975923e+05\n",
       "2010    1.158381e+05\n",
       "2011    7.412059e+04\n",
       "2012    7.581617e+04\n",
       "2013    2.065968e+05\n",
       "2014    2.256952e+05\n",
       "2015    3.569033e+05\n",
       "2016    1.074344e+05\n",
       "2017    4.587348e+04\n",
       "2018    4.748057e+05\n",
       "Name: fuel_cost_per_unit_delivered, dtype: float64"
      ]
     },
     "execution_count": 61,
     "metadata": {},
     "output_type": "execute_result"
    }
   ],
   "source": [
    "fuel_data.groupby('report_year')['fuel_cost_per_unit_delivered'].sum()\n",
    "#Question 10"
   ]
  },
  {
   "cell_type": "code",
   "execution_count": 72,
   "id": "c97f7c14",
   "metadata": {},
   "outputs": [
    {
     "ename": "AttributeError",
     "evalue": "'DataFrameGroupBy' object has no attribute 'corrcoeff'",
     "output_type": "error",
     "traceback": [
      "\u001b[1;31m---------------------------------------------------------------------------\u001b[0m",
      "\u001b[1;31mAttributeError\u001b[0m                            Traceback (most recent call last)",
      "\u001b[1;32m<ipython-input-72-a2977359721f>\u001b[0m in \u001b[0;36m<module>\u001b[1;34m\u001b[0m\n\u001b[1;32m----> 1\u001b[1;33m \u001b[0mfuel_data\u001b[0m\u001b[1;33m.\u001b[0m\u001b[0mgroupby\u001b[0m\u001b[1;33m(\u001b[0m\u001b[1;34m'fuel_cost_per_unit_burned'\u001b[0m\u001b[1;33m)\u001b[0m\u001b[1;33m.\u001b[0m\u001b[0mcorrcoeff\u001b[0m\u001b[1;33m(\u001b[0m\u001b[0mfuel_cost_per_unit_burned\u001b[0m\u001b[1;33m,\u001b[0m\u001b[0mreport_year\u001b[0m\u001b[1;33m)\u001b[0m\u001b[1;33m\u001b[0m\u001b[1;33m\u001b[0m\u001b[0m\n\u001b[0m",
      "\u001b[1;32m~\\anaconda3\\lib\\site-packages\\pandas\\core\\groupby\\groupby.py\u001b[0m in \u001b[0;36m__getattr__\u001b[1;34m(self, attr)\u001b[0m\n\u001b[0;32m    750\u001b[0m             \u001b[1;32mreturn\u001b[0m \u001b[0mself\u001b[0m\u001b[1;33m[\u001b[0m\u001b[0mattr\u001b[0m\u001b[1;33m]\u001b[0m\u001b[1;33m\u001b[0m\u001b[1;33m\u001b[0m\u001b[0m\n\u001b[0;32m    751\u001b[0m \u001b[1;33m\u001b[0m\u001b[0m\n\u001b[1;32m--> 752\u001b[1;33m         raise AttributeError(\n\u001b[0m\u001b[0;32m    753\u001b[0m             \u001b[1;34mf\"'{type(self).__name__}' object has no attribute '{attr}'\"\u001b[0m\u001b[1;33m\u001b[0m\u001b[1;33m\u001b[0m\u001b[0m\n\u001b[0;32m    754\u001b[0m         )\n",
      "\u001b[1;31mAttributeError\u001b[0m: 'DataFrameGroupBy' object has no attribute 'corrcoeff'"
     ]
    }
   ],
   "source": [
    "fuel_data.groupby('fuel_cost_per_unit_burned').corrcoeff(fuel_cost_per_unit_burned,report_year)"
   ]
  }
 ],
 "metadata": {
  "kernelspec": {
   "display_name": "Python 3",
   "language": "python",
   "name": "python3"
  },
  "language_info": {
   "codemirror_mode": {
    "name": "ipython",
    "version": 3
   },
   "file_extension": ".py",
   "mimetype": "text/x-python",
   "name": "python",
   "nbconvert_exporter": "python",
   "pygments_lexer": "ipython3",
   "version": "3.8.8"
  }
 },
 "nbformat": 4,
 "nbformat_minor": 5
}
